{
 "cells": [
  {
   "cell_type": "markdown",
   "metadata": {},
   "source": [
    "# Interest Rate Swap\n",
    "\n",
    "An Interest Rate Swap is a financial derivative instrument in which two parties agree to exchange interest rate cash flows based on a notional amount from a fixed rate to a floating rate or from one floating rate to another floating rate."
   ]
  },
  {
   "cell_type": "code",
   "execution_count": 12,
   "metadata": {},
   "outputs": [],
   "source": [
    "import QuantLib as ql\n",
    "calculation_date = ql.Date(1, 7, 2020)\n",
    "ql.Settings.instance().evaluationDate = calculation_date"
   ]
  },
  {
   "cell_type": "code",
   "execution_count": 13,
   "metadata": {},
   "outputs": [],
   "source": [
    "# For simplicity, using flat curves for discounting and Libor 3M\n",
    "# Constructing discount curve and libor curve\n",
    "\n",
    "risk_free_rate = 0.02\n",
    "libor_rate = 0.03\n",
    "day_count = ql.Actual365Fixed()\n",
    "\n",
    "discount_curve = ql.YieldTermStructureHandle(ql.FlatForward(calculation_date, risk_free_rate, day_count))\n",
    "# YieldTermStructureHandle: gives the discount factor for a particular date\n",
    "# FlatForward: constructing a rate curve that will lead to flat forward rates\n",
    "\n",
    "libor_curve = ql.YieldTermStructureHandle(ql.FlatForward(calculation_date, libor_rate, day_count))\n",
    "\n",
    "\n",
    "libor3M_index = ql.USDLibor(ql.Period(3, ql.Months), libor_curve)"
   ]
  },
  {
   "cell_type": "code",
   "execution_count": 14,
   "metadata": {},
   "outputs": [],
   "source": [
    "# Specify the fixed rate leg and floating rate leg\n",
    "\n",
    "calendar = ql.UnitedStates()\n",
    "settle_date = calendar.advance(calculation_date, 5, ql.Days)\n",
    "maturity_date = calendar.advance(settle_date, 10, ql.Years)\n",
    "\n",
    "fixed_leg_tenor = ql.Period(6, ql.Months)\n",
    "fixed_schedule = ql.Schedule(settle_date, maturity_date, fixed_leg_tenor, calendar, ql.ModifiedFollowing, \n",
    "                             ql.ModifiedFollowing, ql.DateGeneration.Forward, False)\n",
    "\n",
    "float_leg_tenor = ql.Period(3, ql.Months)\n",
    "float_schedule = ql.Schedule (settle_date, maturity_date, float_leg_tenor, calendar, ql.ModifiedFollowing, \n",
    "                              ql.ModifiedFollowing, ql.DateGeneration.Forward, False)\n"
   ]
  },
  {
   "cell_type": "code",
   "execution_count": 15,
   "metadata": {},
   "outputs": [],
   "source": [
    "# Vanilla Swap\n",
    "\n",
    "notional = 1000000\n",
    "fixed_rate = 0.025\n",
    "fixed_leg_daycount = ql.Actual360()\n",
    "float_spread = 0.004\n",
    "float_leg_daycount = ql.Actual360()\n",
    "\n",
    "ir_swap = ql.VanillaSwap(ql.VanillaSwap.Payer, notional, fixed_schedule, \n",
    "               fixed_rate, fixed_leg_daycount, float_schedule,\n",
    "               libor3M_index, float_spread, float_leg_daycount )"
   ]
  },
  {
   "cell_type": "code",
   "execution_count": 16,
   "metadata": {},
   "outputs": [],
   "source": [
    "# Evaluate swap using  DiscountingSwapEngine: Basic discounting bond engine using a yield term structure for pricing\n",
    "\n",
    "swap_engine = ql.DiscountingSwapEngine(discount_curve)\n",
    "ir_swap.setPricingEngine(swap_engine)"
   ]
  },
  {
   "cell_type": "markdown",
   "metadata": {},
   "source": [
    "# Results"
   ]
  },
  {
   "cell_type": "code",
   "execution_count": 17,
   "metadata": {},
   "outputs": [
    {
     "name": "stdout",
     "output_type": "stream",
     "text": [
      " 1    January 11th, 2021    12916.67\n",
      " 2    July 9th, 2021        12430.56\n",
      " 3    January 10th, 2022    12847.22\n",
      " 4    July 11th, 2022       12638.89\n",
      " 5    January 9th, 2023     12638.89\n",
      " 6    July 10th, 2023       12638.89\n",
      " 7    January 9th, 2024     12708.33\n",
      " 8    July 9th, 2024        12638.89\n",
      " 9    January 9th, 2025     12777.78\n",
      "10    July 9th, 2025        12569.44\n",
      "11    January 9th, 2026     12777.78\n",
      "12    July 9th, 2026        12569.44\n",
      "13    January 11th, 2027    12916.67\n",
      "14    July 9th, 2027        12430.56\n",
      "15    January 10th, 2028    12847.22\n",
      "16    July 10th, 2028       12638.89\n",
      "17    January 9th, 2029     12708.33\n",
      "18    July 9th, 2029        12569.44\n",
      "19    January 9th, 2030     12777.78\n",
      "20    July 9th, 2030        12569.44\n"
     ]
    }
   ],
   "source": [
    "# Fixed Leg Cashflows\n",
    "for i, cf in enumerate(ir_swap.leg(0)):\n",
    "    print (\"%2d    %-18s  %10.2f\"%(i+1, cf.date(), cf.amount()))"
   ]
  },
  {
   "cell_type": "code",
   "execution_count": 18,
   "metadata": {},
   "outputs": [
    {
     "name": "stdout",
     "output_type": "stream",
     "text": [
      " 1    October 9th, 2020      8612.53\n",
      " 2    January 11th, 2021     8800.39\n",
      " 3    April 9th, 2021        8236.87\n",
      " 4    July 9th, 2021         8518.60\n",
      " 5    October 12th, 2021     8894.34\n",
      " 6    January 10th, 2022     8424.69\n",
      " 7    April 11th, 2022       8518.60\n",
      " 8    July 11th, 2022        8518.60\n",
      " 9    October 11th, 2022     8612.53\n",
      "10    January 9th, 2023      8424.69\n",
      "11    April 10th, 2023       8518.91\n",
      "12    July 10th, 2023        8518.30\n",
      "13    October 10th, 2023     8612.53\n",
      "14    January 9th, 2024      8518.60\n",
      "15    April 9th, 2024        8518.60\n",
      "16    July 9th, 2024         8518.60\n",
      "17    October 9th, 2024      8612.53\n",
      "18    January 9th, 2025      8612.53\n",
      "19    April 9th, 2025        8424.69\n",
      "20    July 9th, 2025         8518.60\n",
      "21    October 9th, 2025      8612.53\n",
      "22    January 9th, 2026      8612.53\n",
      "23    April 9th, 2026        8424.69\n",
      "24    July 9th, 2026         8518.60\n",
      "25    October 9th, 2026      8612.53\n",
      "26    January 11th, 2027     8800.39\n",
      "27    April 9th, 2027        8236.87\n",
      "28    July 9th, 2027         8518.60\n",
      "29    October 12th, 2027     8894.34\n",
      "30    January 10th, 2028     8424.69\n",
      "31    April 10th, 2028       8518.60\n",
      "32    July 10th, 2028        8518.60\n",
      "33    October 10th, 2028     8612.53\n",
      "34    January 9th, 2029      8518.60\n",
      "35    April 9th, 2029        8424.69\n",
      "36    July 9th, 2029         8518.60\n",
      "37    October 9th, 2029      8612.53\n",
      "38    January 9th, 2030      8612.53\n",
      "39    April 9th, 2030        8424.69\n",
      "40    July 9th, 2030         8518.60\n"
     ]
    }
   ],
   "source": [
    "# Floating Leg Cashflows\n",
    "for i, cf in enumerate(ir_swap.leg(1)):\n",
    "    print (\"%2d    %-18s  %10.2f\"%(i+1, cf.date(), cf.amount()))"
   ]
  },
  {
   "cell_type": "code",
   "execution_count": null,
   "metadata": {},
   "outputs": [],
   "source": []
  }
 ],
 "metadata": {
  "kernelspec": {
   "display_name": "Python 3",
   "language": "python",
   "name": "python3"
  },
  "language_info": {
   "codemirror_mode": {
    "name": "ipython",
    "version": 3
   },
   "file_extension": ".py",
   "mimetype": "text/x-python",
   "name": "python",
   "nbconvert_exporter": "python",
   "pygments_lexer": "ipython3",
   "version": "3.7.6"
  }
 },
 "nbformat": 4,
 "nbformat_minor": 4
}
